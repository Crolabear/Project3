{
 "metadata": {
  "name": ""
 },
 "nbformat": 3,
 "nbformat_minor": 0,
 "worksheets": [
  {
   "cells": [
    {
     "cell_type": "code",
     "collapsed": false,
     "input": [
      "## Things to keep in mind:\n",
      "#manually created the backup file to store the current copy of txt documents.\n",
      "##manually moved the name.txt file to the backup directory so that python can read it in.\n",
      "##Write a code to do these two things automatically\n",
      "\n",
      "\n",
      "#Import the necessary libraries: \n",
      "\n",
      "import pickle\n",
      "from __future__ import division\n",
      "import math\n",
      "import numpy as np\n",
      "import pylab as pl\n",
      "import matplotlib.pyplot as plt\n",
      "import multiprocessing as mp\n",
      "from scipy.stats import mode\n",
      "import re\n",
      "import pandas\n",
      "\n",
      "\n",
      "def remNum(x):\n",
      "    y=re.sub('[0-9]',\"\",x)\n",
      "    return(y)\n",
      "#Title=map(remNum,Names)\n",
      "\n",
      "\n",
      "def sliceup(x):\n",
      "    leng=len(x)-2\n",
      "    y=range(leng)\n",
      "    z=map(lambda a: x[0:a+3], y)\n",
      "    # can make the match more harsh by increasing th size of the sub segment.\n",
      "    return(z)\n",
      "\n",
      "\n",
      "def FindCommon(word,slices):\n",
      "    L=len(slices)\n",
      "    f=map(lambda x:(int(bool(re.search(x,word)))/L),slices)\n",
      "    return(sum(f))\n",
      "\n",
      "\n",
      "def SimiTitle(word, Title):\n",
      "    # compares a particular word to the each elements in the title.\n",
      "    g=sliceup(word)\n",
      "    h=map(lambda x:FindCommon(x,g) ,Title)\n",
      "    return(h)\n",
      "\n",
      "# compares the slices to a particular word. If there is a slice that matches, return 1, and then sum up the ones"
     ],
     "language": "python",
     "metadata": {},
     "outputs": [],
     "prompt_number": 40
    },
    {
     "cell_type": "code",
     "collapsed": false,
     "input": [
      "\n"
     ],
     "language": "python",
     "metadata": {},
     "outputs": [],
     "prompt_number": 2
    },
    {
     "cell_type": "code",
     "collapsed": false,
     "input": [],
     "language": "python",
     "metadata": {},
     "outputs": [],
     "prompt_number": 7
    },
    {
     "cell_type": "code",
     "collapsed": false,
     "input": [
      "\n"
     ],
     "language": "python",
     "metadata": {},
     "outputs": [
      {
       "metadata": {},
       "output_type": "pyout",
       "prompt_number": 14,
       "text": [
        "500"
       ]
      }
     ],
     "prompt_number": 14
    },
    {
     "cell_type": "code",
     "collapsed": false,
     "input": [],
     "language": "python",
     "metadata": {},
     "outputs": [],
     "prompt_number": 1
    },
    {
     "cell_type": "code",
     "collapsed": false,
     "input": [],
     "language": "python",
     "metadata": {},
     "outputs": [],
     "prompt_number": 57
    },
    {
     "cell_type": "code",
     "collapsed": false,
     "input": [],
     "language": "python",
     "metadata": {},
     "outputs": []
    },
    {
     "cell_type": "code",
     "collapsed": false,
     "input": [
      "## Load in title info\n",
      "Names=open('name.txt','rb').read().splitlines()\n",
      "Title=map(remNum,Names)\n",
      "\n",
      "SimTitle=open('zzsimscore1.txt','rb')\n",
      "SimScore2=pickle.load(SimTitle)\n",
      "## simplecount is for simple word freq.\n",
      "\n",
      "SimCount=open('zzsimplecount.txt','rb')\n",
      "gg=pickle.load(SimCount)\n",
      " "
     ],
     "language": "python",
     "metadata": {},
     "outputs": [],
     "prompt_number": 17
    },
    {
     "cell_type": "code",
     "collapsed": false,
     "input": [
      "## A Heatmap\n",
      "\n",
      "Title3=Title[0:500]\n",
      "SimScore5=[]\n",
      "SimScore5=map(lambda x: SimiTitle(x,Title3),Title3)\n",
      "test5=np.array(SimScore5)\n",
      "\n",
      "x=np.array(range(500))\n",
      "y=np.array(range(500))\n",
      "x,y=np.meshgrid(x,y)\n",
      "\n",
      "fig = pl.figure()\n",
      "axes = pl.Axes(fig,[0.1,0.3,0.7,0.6])\n",
      "fig.add_axes(axes)\n",
      "#fig.suptitle('Sub-reddit Titles')\n",
      "pl.title(\"500x500 Heatmap of Sub-reddit Titles\")\n",
      "#pl.contour(x,y,test5,8,colors='black',alpha=0.75)\n",
      "pl.xlabel('500 subreddits')\n",
      "fig.text(0.1,0.1,'')\n",
      "pl.pcolor(test5)\n",
      "pl.colorbar()\n",
      "pl.show()\n"
     ],
     "language": "python",
     "metadata": {},
     "outputs": [],
     "prompt_number": 5
    },
    {
     "cell_type": "code",
     "collapsed": false,
     "input": [
      "\n",
      "## b/c the dimension of the text is too big, so I will divide the 2500x2500 grid into 4 regions\n",
      "\n",
      "Title1=Title[0:1250]\n",
      "Title2=Title[1250:2500]\n",
      "\n"
     ],
     "language": "python",
     "metadata": {},
     "outputs": [],
     "prompt_number": 9
    },
    {
     "cell_type": "code",
     "collapsed": false,
     "input": [
      "\n",
      "SimScore1=[]\n",
      "SimScore22=[]\n",
      "SimScore3=[]\n",
      "SimScore4=[]\n",
      "\n",
      "\n",
      "SimScore1=map(lambda x: SimiTitle(x,Title1),Title1)\n",
      "test1=np.array(SimScore1)\n",
      "SimScore22=map(lambda x: SimiTitle(x,Title1),Title2)\n",
      "test2=np.array(SimScore2)\n",
      "SimScore3=map(lambda x: SimiTitle(x,Title2),Title1)\n",
      "test3=np.array(SimScore3)\n",
      "SimScore4=map(lambda x: SimiTitle(x,Title2),Title2)\n",
      "test4=np.array(SimScore4)\n"
     ],
     "language": "python",
     "metadata": {},
     "outputs": [],
     "prompt_number": 10
    },
    {
     "cell_type": "code",
     "collapsed": false,
     "input": [
      "cap1=''' \n",
      "The first 1250 Titles. Titles that are similar appears in black. \n",
      "Since the titles are sorted by alphabetical order, dots tend to cluster around the \n",
      "diagonal \n",
      "'''\n",
      "\n",
      "cap2=''' \n",
      "The first 1250 Titles comopared to the last 1250 Titles. Titles that are similar \n",
      "appears in black. \n",
      "Since we are away from the diagonal, we only see scatters with no apparent patches \n",
      "'''\n",
      "\n",
      "cap4=''' \n",
      "The last 1250 Titles. Titles that are similar appears in black. \n",
      "Since the titles are sorted by alphabetical order, dots tend to cluster around the \n",
      "diagonal \n",
      "'''\n"
     ],
     "language": "python",
     "metadata": {},
     "outputs": [],
     "prompt_number": 11
    },
    {
     "cell_type": "code",
     "collapsed": false,
     "input": [],
     "language": "python",
     "metadata": {},
     "outputs": [],
     "prompt_number": 7
    },
    {
     "cell_type": "code",
     "collapsed": false,
     "input": [
      "# hard coded by replacing the variables. Should be able to automate it\n",
      "  # use this to make picture faster and check lables are right; alternative of heatmap\n",
      "\n",
      "x=np.array(range(1250))\n",
      "y=np.array(range(1250))\n",
      "x,y=np.meshgrid(x,y)\n",
      "\n",
      "fig = pl.figure()\n",
      "axes = pl.Axes(fig,[0.1,0.3,0.7,0.6])\n",
      "fig.add_axes(axes)\n",
      "#fig.suptitle('Sub-reddit Titles')\n",
      "pl.title(\"Plot of Sub-reddit Titles\")\n",
      "pl.contour(x,y,test1,8,colors='black',alpha=0.75)\n",
      "pl.xlabel('First 1250 subreddits')\n",
      "fig.text(0.1,0.1,cap1)\n",
      "#pl.pcolor(test)\n",
      "#pl.colorbar()\n",
      "pl.show()\n"
     ],
     "language": "python",
     "metadata": {},
     "outputs": [],
     "prompt_number": 14
    },
    {
     "cell_type": "code",
     "collapsed": false,
     "input": [
      "x=np.array(range(1250))\n",
      "y=np.array(range(1250))\n",
      "x,y=np.meshgrid(x,y)\n",
      "\n",
      "fig = pl.figure()\n",
      "axes = pl.Axes(fig,[0.1,0.3,0.7,0.6])\n",
      "fig.add_axes(axes)\n",
      "#fig.suptitle('Sub-reddit Titles')\n",
      "pl.title(\"Plot of Sub-reddit Titles\")\n",
      "pl.contour(x,y,test4,8,colors='black',alpha=0.75)\n",
      "pl.xlabel('Last 1250 subreddits')\n",
      "fig.text(0.1,0.1,cap4)\n",
      "#pl.pcolor(test)\n",
      "#pl.colorbar()\n",
      "pl.show()"
     ],
     "language": "python",
     "metadata": {},
     "outputs": [],
     "prompt_number": 15
    },
    {
     "cell_type": "code",
     "collapsed": false,
     "input": [
      "x=np.array(range(1250))\n",
      "y=np.array(range(1250))\n",
      "x,y=np.meshgrid(x,y)\n",
      "\n",
      "\n",
      "fig = pl.figure()\n",
      "axes = pl.Axes(fig,[0.1,0.3,0.7,0.6])\n",
      "fig.add_axes(axes)\n",
      "#fig.suptitle('Sub-reddit Titles')\n",
      "pl.title(\"Plot of Sub-reddit Titles\")\n",
      "pl.contour(x,y,test3,8,colors='black',alpha=0.75)\n",
      "pl.xlabel('First 1250 subreddits')\n",
      "pl.ylabel('Last 1250 subreddits')\n",
      "fig.text(0.1,0.1,cap2)\n",
      "#pl.pcolor(test)\n",
      "#pl.colorbar()\n",
      "pl.show()"
     ],
     "language": "python",
     "metadata": {},
     "outputs": [],
     "prompt_number": 16
    },
    {
     "cell_type": "code",
     "collapsed": false,
     "input": [
      "## Looking at the ones that are 90% similar "
     ],
     "language": "python",
     "metadata": {},
     "outputs": [],
     "prompt_number": 15
    },
    {
     "cell_type": "code",
     "collapsed": false,
     "input": [],
     "language": "python",
     "metadata": {},
     "outputs": [],
     "prompt_number": 50
    },
    {
     "cell_type": "code",
     "collapsed": false,
     "input": [],
     "language": "python",
     "metadata": {},
     "outputs": [],
     "prompt_number": 51
    },
    {
     "cell_type": "code",
     "collapsed": false,
     "input": [
      "# identify similar pairs\n",
      "SimArrar=np.array(SimScore2)\n",
      "SimArrar1=np.array(gg)\n",
      "\n",
      "\n",
      "x=[]\n",
      "y=[]\n",
      "# x, and y are the indice of the title matrix\n",
      "\n",
      "for i in range(2500):\n",
      "    for j in range (2500):\n",
      "        if (SimArrar[i,j]>0.9 and SimArrar[i,j]!=1):\n",
      "            x.append(i)\n",
      "            y.append(j)\n",
      "            \n",
      "#Obtain the indice that are more than 90% similar.            \n",
      "                                            \n",
      "#ArrayTitle=np.concatenate([x,y],axis=0)\n",
      "#Row=len(ArrayTitle)\n",
      "#ArrayTitle=ArrayTitle.reshape(Row/2,2)\n",
      "\n",
      "\n",
      "\n",
      "#xlab=map(lambda z: Names[z],x)\n",
      "#ylab=map(lambda z: Names[z],y)\n"
     ],
     "language": "python",
     "metadata": {},
     "outputs": [],
     "prompt_number": 31
    },
    {
     "cell_type": "code",
     "collapsed": false,
     "input": [],
     "language": "python",
     "metadata": {},
     "outputs": [],
     "prompt_number": 29
    },
    {
     "cell_type": "code",
     "collapsed": false,
     "input": [
      "x1=[]\n",
      "y1=[]\n",
      "## x1 and y1 are the indice of the content matrix. \n",
      "\n",
      "for i in range(2500):\n",
      "    for j in range(2500):\n",
      "        if (SimArrar1[i,j]>0.9 and SimArrar1[i,j]!=1):\n",
      "            x1.append(i)\n",
      "            y1.append(j)\n",
      "            \n",
      "### obtained the indice that are more than 90% similar.             \n",
      "            \n",
      "                                                            \n",
      "#ArrayContent=np.concatenate([x1,y1],axis=0)\n",
      "#Row1=len(ArrayContent)\n",
      "#ArrayContent=ArrayContent.reshape(Row1/2,2)\n",
      "                \n",
      "#xlab1=map(lambda z: Names[z],x1)\n",
      "#ylab1=map(lambda z: Names[z],y1)\n",
      "#ArrayContent.shape\n",
      "\n",
      "\n",
      "###  scatter plot\n",
      "pl.scatter(x1,y1,marker='.',color='blue')\n",
      "pl.scatter(x,y,marker='.',color='red')\n",
      "pl.ylim((0,2500))\n",
      "pl.xlim((0,2500))\n",
      "pl.show()\n",
      "\n",
      "##### Noticed a line at 2172. probably due to typoe. decide to remove it and then compare. \n",
      "\n",
      "###\n",
      "### removing the 2172 term.\n",
      "for i in range(len(x1)):\n",
      "    if x1[i] == 2172:\n",
      "        x1[i]=0\n",
      "        y1[i]=0\n",
      "\n",
      "for i in range(len(y1)):\n",
      "    if y1[i]==2172:\n",
      "        y1[i]=0\n",
      "        x1[i]=0\n"
     ],
     "language": "python",
     "metadata": {},
     "outputs": [],
     "prompt_number": 30
    },
    {
     "cell_type": "code",
     "collapsed": false,
     "input": [
      "range(1,10)"
     ],
     "language": "python",
     "metadata": {},
     "outputs": [
      {
       "metadata": {},
       "output_type": "pyout",
       "prompt_number": 96,
       "text": [
        "[1, 2, 3, 4, 5, 6, 7, 8, 9]"
       ]
      }
     ],
     "prompt_number": 96
    },
    {
     "cell_type": "code",
     "collapsed": false,
     "input": [
      "### After the removal, plot the two graphs again:  scatter plot\n",
      "cap5='''\n",
      "The red dots are subreddits whose titles are 90% similar. \n",
      "The blue dots are subreddits whose contents are 90% similar.\n",
      "'''\n",
      "\n",
      "fig=pl.figure()\n",
      "axes = pl.Axes(fig,[0.1,0.3,0.7,0.6])\n",
      "fig.add_axes(axes)\n",
      "pl.scatter(x1,y1,marker='.',color='blue')\n",
      "pl.scatter(x,y,marker='.',color='red')\n",
      "pl.ylim((0,2500))\n",
      "pl.xlim((0,2500))\n",
      "pl.xlabel('Subreddits that are 90% similar')\n",
      "fig.text(0.1,0.1,cap5)\n",
      "pl.suptitle('Combined plot of both title and content similarities')\n",
      "\n",
      "pl.show()\n"
     ],
     "language": "python",
     "metadata": {},
     "outputs": [],
     "prompt_number": 41
    },
    {
     "cell_type": "code",
     "collapsed": false,
     "input": [
      "SimConArr=np.array(gg)"
     ],
     "language": "python",
     "metadata": {},
     "outputs": [],
     "prompt_number": 52
    },
    {
     "cell_type": "code",
     "collapsed": false,
     "input": [
      "test6=SimConArr[500:800,500:800]\n",
      "pl.pcolor(test6,cmap=pl.cm.Blues)\n",
      "#pl.pcolor(test2,cmap=pl.cm.Blues)\n",
      "#pl.pcolor(test3,cmap=pl.cm.Blues)\n",
      "#pl.pcolor(test4,cmap=pl.cm.Blues)\n",
      "plt.suptitle('Heatmap of reddit content similarity')\n",
      "plt.xlabel('subreddit indice')\n",
      "plt.ylabel('subreddit indice')\n",
      "pl.colorbar()\n",
      "pl.show()"
     ],
     "language": "python",
     "metadata": {},
     "outputs": [],
     "prompt_number": 53
    },
    {
     "cell_type": "code",
     "collapsed": false,
     "input": [],
     "language": "python",
     "metadata": {},
     "outputs": [],
     "prompt_number": 55
    },
    {
     "cell_type": "code",
     "collapsed": false,
     "input": [],
     "language": "python",
     "metadata": {},
     "outputs": [],
     "prompt_number": 49
    },
    {
     "cell_type": "code",
     "collapsed": false,
     "input": [
      "### The more detailed plot\n",
      "## Depends on the previous defintion of variables. Made use of (x,y), the indice of the title matrix\n",
      "## made use of (x1,y1), indice of the content matrix "
     ],
     "language": "python",
     "metadata": {},
     "outputs": [],
     "prompt_number": 50
    },
    {
     "cell_type": "code",
     "collapsed": false,
     "input": [
      "\n",
      "Contentx11=[]\n",
      "Contenty11=[]\n",
      "\n",
      "## Those that are more than 90% similar and are far from the diagonal. \n",
      "## if we want to include terms that are close to the diagaonal (but not exactly on the diagonal, we can make the d term smaller)\n",
      "\n",
      "for i in range(len(x1)):\n",
      "    if i!=2172:\n",
      "      d=x1[i]-y1[i]\n",
      "      if d > 2:\n",
      "        Contentx11.append(x1[i])\n",
      "        Contenty11.append(y1[i])\n",
      "\n",
      "\n",
      " ##X11, y11 are indice for content matrix"
     ],
     "language": "python",
     "metadata": {},
     "outputs": [],
     "prompt_number": 44
    },
    {
     "cell_type": "code",
     "collapsed": false,
     "input": [
      "Titlex22=[]\n",
      "Titley22=[]\n",
      "\n",
      "for i in range(len(x)):\n",
      "    d=x[i]-y[i]\n",
      "    if d > 2:\n",
      "        Titlex22.append(x[i])\n",
      "        Titley22.append(y[i])\n"
     ],
     "language": "python",
     "metadata": {},
     "outputs": [],
     "prompt_number": 36
    },
    {
     "cell_type": "code",
     "collapsed": false,
     "input": [],
     "language": "python",
     "metadata": {},
     "outputs": [],
     "prompt_number": 36
    },
    {
     "cell_type": "code",
     "collapsed": false,
     "input": [
      "\n",
      "\n",
      "# define axis label\n",
      "\n",
      "# 1 .. _ content info\n",
      "xlab1=map(lambda z: Names[z],Contentx11)\n",
      "ylab1=map(lambda z: Names[z],Contenty11)\n",
      "\n",
      "# 2 .._ titl info\n",
      "xlab2=map(lambda z: Names[z],Titlex22)\n",
      "ylab2=map(lambda z: Names[z],Titley22)\n",
      "\n"
     ],
     "language": "python",
     "metadata": {},
     "outputs": [],
     "prompt_number": 45
    },
    {
     "cell_type": "code",
     "collapsed": false,
     "input": [],
     "language": "python",
     "metadata": {},
     "outputs": [
      {
       "metadata": {},
       "output_type": "pyout",
       "prompt_number": 102,
       "text": [
        "2417"
       ]
      }
     ],
     "prompt_number": 102
    },
    {
     "cell_type": "code",
     "collapsed": false,
     "input": [
      "\n",
      "\n",
      "labels=map(lambda a,b: a+'\\n'+ b, xlab2,ylab2)\n",
      "plt.subplots_adjust(bottom = 0.1)\n",
      "plt.scatter(\n",
      "    Titlex22,Titley22, marker = 'o')\n",
      "for label, x, y in zip(labels, Titlex22, Titley22):\n",
      "    plt.annotate(\n",
      "        label, \n",
      "        xy = (x, y), xytext = (-20, 20),\n",
      "        textcoords = 'offset points', ha = 'right', va = 'bottom',\n",
      "        bbox = dict(boxstyle = 'round,pad=0.5', fc = 'yellow', alpha = 0.5),\n",
      "        arrowprops = dict(arrowstyle = '->', connectionstyle = 'arc3,rad=0'),fontsize=8)\n",
      "\n",
      "plt.suptitle(' Selected subreddits whose titles are over 90% similar')\n",
      "plt.xlabel('subreddit indice')\n",
      "plt.show()"
     ],
     "language": "python",
     "metadata": {},
     "outputs": [],
     "prompt_number": 42
    },
    {
     "cell_type": "code",
     "collapsed": false,
     "input": [
      "\n",
      "\n",
      "\n",
      "labels=map(lambda a,b: a+'\\n'+ b, xlab1,ylab1)\n",
      "plt.subplots_adjust(bottom = 0.1)\n",
      "plt.scatter(\n",
      "    Contentx11,Contenty11, marker = 'o')\n",
      "for label, x, y in zip(labels, Contentx11, Contenty11):\n",
      "    plt.annotate(\n",
      "        label, \n",
      "        xy = (x, y), xytext = (-20, 20),\n",
      "        textcoords = 'offset points', ha = 'right', va = 'bottom',\n",
      "        bbox = dict(boxstyle = 'round,pad=0.5', fc = 'yellow', alpha = 0.4),\n",
      "        arrowprops = dict(arrowstyle = '->', connectionstyle = 'arc3,rad=0'),fontsize=8)\n",
      "plt.suptitle(' Selected subreddits whose Contents are over 90% similar')\n",
      "plt.xlabel('subreddit indice')\n",
      "plt.ylabel('subreddit indice')\n",
      "plt.show()\n",
      "\n",
      "\n"
     ],
     "language": "python",
     "metadata": {},
     "outputs": [],
     "prompt_number": 49
    },
    {
     "cell_type": "code",
     "collapsed": false,
     "input": [
      "ArrayContent"
     ],
     "language": "python",
     "metadata": {},
     "outputs": [
      {
       "metadata": {},
       "output_type": "pyout",
       "prompt_number": 97,
       "text": [
        "array([[   0,    1],\n",
        "       [   2,    3],\n",
        "       [   4,    5],\n",
        "       ..., \n",
        "       [2494, 2495],\n",
        "       [2496, 2497],\n",
        "       [2498, 2499]])"
       ]
      }
     ],
     "prompt_number": 97
    }
   ],
   "metadata": {}
  }
 ]
}